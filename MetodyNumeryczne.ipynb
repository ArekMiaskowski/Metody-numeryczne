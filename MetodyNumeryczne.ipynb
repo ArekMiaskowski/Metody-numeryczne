{
 "cells": [
  {
   "cell_type": "code",
   "execution_count": 5,
   "metadata": {},
   "outputs": [
    {
     "name": "stdout",
     "output_type": "stream",
     "text": [
      "Liczba pkt nad krzywa f(x): 275\n",
      "Liczba pkt pod krzywa f(x): 325\n",
      "N. pod f(x) /N.total: 0.5416666666666666\n",
      "Powierzchnia calkowita: -710.0\n",
      "Powierzchnia pod krzywa f(x): -384.5833333333333\n"
     ]
    },
    {
     "data": {
      "image/png": "[encoded data removed]",
      "text/plain": [
       "<Figure size 432x288 with 1 Axes>"
      ]
     },
     "metadata": {
      "needs_background": "light"
     },
     "output_type": "display_data"
    }
   ],
   "source": [
    "#Metoda Monte Carlo\n",
    "\n",
    "import numpy as np\n",
    "import matplotlib.pyplot as plt\n",
    "def MonteC(f, x0, x1, N):\n",
    "    'Oblicza calke funkcji f(x)dx od x0 do x1 dla N pnktow'    \n",
    "    \n",
    "    np.random.seed(1)\n",
    "    #x nalezy do przedzialu [x0,x1) z krokiem 0.01\n",
    "    x = np.arange(x0, x1, 0.01)\n",
    "    x = np.linspace(x0, x1, 100)\n",
    "    y = f(x)\n",
    "    #szuka max f(x) na przedziale [x0,x1)\n",
    "    f_max = np.max(y)\n",
    "    f_min = np.min(y)\n",
    "    \n",
    "    #x_rand nalezy do przedialu [x1,x0)\n",
    "    #y_rand nalezy do przedzialu (0,fmax)\n",
    "    \n",
    "    #x_rand = x0 + np.random.random(N)*(x1-x0)\n",
    "    #y_rand =  0 + np.random.random(N)*f_max\n",
    "    \n",
    "    x_rand = x0 + np.random.random(N)*(x1-x0)\n",
    "    y_rand = np.random.random(N) * (f_max + f_min)\n",
    "    \n",
    "    #szukamy punktow pod i na krzywa f(x)\n",
    "    #maskowanie punktow\n",
    "    mask_below = np.where(y_rand < f(x_rand))\n",
    "    mask_above = np.where(y_rand >= f(x_rand))\n",
    "   \n",
    "    \n",
    "    #wyswietlamy wyniki\n",
    "    plt.plot(x, y, color = 'red', lw = 5)\n",
    "    pkt_below = plt.scatter(x_rand[mask_below], y_rand[mask_below], color = 'green')\n",
    "    pkt_above = plt.scatter(x_rand[mask_above], y_rand[mask_above], color = 'black')\n",
    "    \n",
    "    \n",
    "    print('Liczba pkt nad krzywa f(x):', len(mask_above[0]))\n",
    "    print('Liczba pkt pod krzywa f(x):', len(mask_below[0]))\n",
    "    print('N. pod f(x) /N.total:', len(mask_below[0])/N)\n",
    "    print('Powierzchnia calkowita:', (f_max+f_min)*(x1-x0))\n",
    "    print('Powierzchnia pod krzywa f(x):',(f_max+f_min)*(x1-x0)*len(mask_below[0])/N)\n",
    "\n",
    "\n",
    "def f1(x):\n",
    "    return -2*x**4 + 5*x\n",
    "\n",
    "#MonteC(f1,0,0.5,600)\n",
    "    \n",
    "def f2(x):\n",
    "    return 1/(np.sqrt(x**3 + 2.56))\n",
    "\n",
    "#MonteC(f2,2,4,600)\n",
    "\n",
    "\n",
    "def f3(x):\n",
    "    return np.sqrt(x)**7\n",
    "\n",
    "#MonteC(f3,5,10,600)\n",
    "\n",
    "def f4(x):\n",
    "    return x**2 - 500/x\n",
    "\n",
    "MonteC(f4,2,4,600)"
   ]
  },
  {
   "cell_type": "code",
   "execution_count": 68,
   "metadata": {},
   "outputs": [
    {
     "name": "stdout",
     "output_type": "stream",
     "text": [
      "Porownanie metod calkowania\n",
      "\n",
      "Metoda: prostokatow, trapezow, Simpsona\n",
      "f1:     0.612500,     0.611312,   0.612500\n",
      "f2:     0.388248,     0.387387,   0.388248\n",
      "f3:  6716.726285,  6699.517354, 6716.718692\n",
      "f4:  -327.907043,  -327.197043, -327.906924\n"
     ]
    }
   ],
   "source": [
    "from math import sqrt\n",
    "\n",
    "def mTrapezow(f,a,b,N=500):\n",
    "    'Oblicza calke f(x) w przedziale [a,b] metoda trapezow dla N parzystych punktow'\n",
    "    h = (b - a)/float(N)\n",
    "    suma = 0\n",
    "    for k in range(1, N):\n",
    "        suma += f(a + k*h)\n",
    "    return 0.5*h*(f(a) + 2*suma + f(b))\n",
    "\n",
    "\n",
    "def mSimpsona(f,a,b,N=500):\n",
    "    'Oblicza calke f(x) w przedziale [a,b] metoda Simpsona dla N parzystych punktow'\n",
    "    h = (b - a)/float(N)\n",
    "    \n",
    "    suma1 = 0\n",
    "    for j in range(1,int(N/2)):\n",
    "        suma1 += f(a + 2*j*h)\n",
    "    \n",
    "    suma2 = 0\n",
    "    for j in range(1,int(N/2)+1):\n",
    "        suma2 += f(a + (2*j-1) * h)\n",
    "        \n",
    "    return h/3*(f(a) + 2*suma1 + 4*suma2 + f(b))\n",
    "\n",
    "def mProstokatow(f,a,b,N=500):\n",
    "    'Oblicza calke f(x) w przedziale [a,b] metoda prostokatow dla N parzystych punktow'\n",
    "    h = (b - a)/float(N)\n",
    "    suma = 0\n",
    "    for i in range(1,N):\n",
    "        suma += f(a + i*h)\n",
    "    return h*suma\n",
    "\n",
    "#############################################\n",
    "def f1(x):\n",
    "    return -2*x**4 + 5*x\n",
    "def f2(x):\n",
    "    return 1./sqrt(x**3 + 2.56)\n",
    "def f3(x):\n",
    "    return sqrt(x)**7\n",
    "def f4(x):\n",
    "    return x**2 - 500/x\n",
    "\n",
    "print('Porownanie metod calkowania\\n')\n",
    "\n",
    "i1 = mTrapezow(f1,0,0.5)\n",
    "\n",
    "i2 = mProstokatow(f1,0,0.5)\n",
    "\n",
    "i3 = mSimpsona(f1,0,0.5)\n",
    "\n",
    "i4 = mTrapezow(f1,0,0.5)\n",
    "\n",
    "######################################\n",
    "j1 = mTrapezow(f2,2,4)\n",
    "\n",
    "j2 = mProstokatow(f2,2,4)\n",
    "\n",
    "j3 = mSimpsona(f2,2,4)\n",
    "\n",
    "j4 = mTrapezow(f2,2,4)\n",
    "\n",
    "#######################################\n",
    "k1 = mTrapezow(f3,5,10)\n",
    "\n",
    "k2 = mProstokatow(f3,5,10)\n",
    "\n",
    "k3 = mSimpsona(f3,5,10)\n",
    "\n",
    "k4 = mTrapezow(f3,5,10)\n",
    "\n",
    "#######################################\n",
    "z1 = mTrapezow(f4,2,4)\n",
    "\n",
    "z2 = mProstokatow(f4,2,4)\n",
    "\n",
    "z3 = mSimpsona(f4,2,4)\n",
    "\n",
    "z4 = mTrapezow(f4,2,4)\n",
    "\n",
    "print('Metoda: prostokatow, trapezow, Simpsona')\n",
    "print('f1: %12f, %12f, %10f' %(i1,i2,i3))\n",
    "print('f2: %12f, %12f, %10f' %(j1,j2,j3))\n",
    "print('f3: %12f, %12f, %10f' %(k1,k2,k3))\n",
    "print('f4: %12f, %12f, %10f' %(z1,z2,z3))\n"
   ]
  },
  {
   "cell_type": "markdown",
   "metadata": {},
   "source": [
    "## Linear congruential generators (LCG)\n",
    "\n",
    "$z_{i+1} = (az_i + c) \\mod m$\n",
    "\n",
    "Hull-Dobell Theorem: The LCG will have a full period for all seeds if and only if\n",
    "\n",
    "* $c$ and $m$ are relatively prime,\n",
    "* $a−1$ is divisible by all prime factors of $m$\n",
    "* $a−1$ is a multiple of 4 if m is a multiple of 4.\n",
    "\n",
    "The number $z_0$ is called the seed, and setting it allows us to have a reproducible sequence of “random” numbers. The LCG is typically coded to return $z/m$, a floating point number in $(0, 1)$. Obviosuly, this can be easily scaled to any other range $(a,b)$."
   ]
  },
  {
   "cell_type": "code",
   "execution_count": 50,
   "metadata": {},
   "outputs": [
    {
     "data": {
      "image/png": "[encoded data removed]",
      "text/plain": [
       "<Figure size 432x288 with 1 Axes>"
      ]
     },
     "metadata": {
      "needs_background": "light"
     },
     "output_type": "display_data"
    }
   ],
   "source": [
    "%matplotlib inline\n",
    "import matplotlib.pyplot as plt\n",
    "\n",
    "def rng(m=2**32, a=1103515245, c=12345):\n",
    "    rng.current = (a*rng.current + c) % m\n",
    "    return rng.current/m\n",
    "\n",
    "# setting the seed\n",
    "rng.current = 1\n",
    "\n",
    "xy = [rng() for i in range(1000)]\n",
    "\n",
    "plt.scatter(xy[0::2],xy[1::2])\n",
    "plt.xlabel('x')\n",
    "plt.ylabel('y')\n",
    "plt.show()"
   ]
  },
  {
   "cell_type": "markdown",
   "metadata": {},
   "source": [
    "## Monte Carlo (trochę prościej)"
   ]
  },
  {
   "cell_type": "code",
   "execution_count": 6,
   "metadata": {},
   "outputs": [
    {
     "name": "stdout",
     "output_type": "stream",
     "text": [
      "Wartosc calki:  -327.9923458757961\n"
     ]
    },
    {
     "data": {
      "image/png": "[encoded data removed]",
      "text/plain": [
       "<Figure size 432x288 with 1 Axes>"
      ]
     },
     "metadata": {
      "needs_background": "light"
     },
     "output_type": "display_data"
    }
   ],
   "source": [
    "%matplotlib inline\n",
    "import matplotlib.pyplot as plt\n",
    "import numpy as np\n",
    "\n",
    "N = 40\n",
    "\n",
    "#funkcja podcalkowa\n",
    "f1 = lambda x: -2*x**4 + 5*x\n",
    "#przedzialy calkowania\n",
    "x0 = 0\n",
    "x1 = 0.5\n",
    "\n",
    "#funkcja podcalkowa\n",
    "f2 = lambda x: 1/(np.sqrt(x**3 + 2.56))\n",
    "#przedzialy calkowania\n",
    "x0 = 2\n",
    "x1 = 4\n",
    "\n",
    "#funkcja podcalkowa\n",
    "f3 = lambda x: np.sqrt(x)**7)\n",
    "#przedzialy calkowania\n",
    "x0 = 5\n",
    "x1 = 10\n",
    "\n",
    "#funkcja podcalkowa\n",
    "f4 = lambda x: x**2 - 500/x\n",
    "#przedzialy calkowania\n",
    "x0 = 2\n",
    "x1 = 4\n",
    "\n",
    "#generator losowy prostokatow pod f(x)\n",
    "xvals = x0 + (x1 - x0)*np.random.random(N)\n",
    "fvals = f1(xvals) #f(x_i) tj. wysokosc kazdego prostokata\n",
    "pole = fvals * (x1-x0)/N\n",
    "\n",
    "calka = sum(pole)\n",
    "print('Wartosc calki: ', calka)\n",
    "\n",
    "\n"
   ]
  },
  {
   "cell_type": "code",
   "execution_count": null,
   "metadata": {},
   "outputs": [],
   "source": []
  }
 ],
 "metadata": {
  "kernelspec": {
   "display_name": "Python 3",
   "language": "python",
   "name": "python3"
  },
  "language_info": {
   "codemirror_mode": {
    "name": "ipython",
    "version": 3
   },
   "file_extension": ".py",
   "mimetype": "text/x-python",
   "name": "python",
   "nbconvert_exporter": "python",
   "pygments_lexer": "ipython3",
   "version": "3.7.1"
  }
 },
 "nbformat": 4,
 "nbformat_minor": 2
}
